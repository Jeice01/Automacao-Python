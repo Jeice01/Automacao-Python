{
 "cells": [
  {
   "cell_type": "markdown",
   "id": "a7447279",
   "metadata": {},
   "source": [
    "# Automação de Sistemas e Processos com Python\n",
    "\n",
    "### Desafio:\n",
    "\n",
    "Para controle de custos, todos os dias, seu chefe pede um relatório com todas as compras de mercadorias da empresa.\n",
    "O seu trabalho, como analista, é enviar um e-mail para ele, assim que começar a trabalhar, com o total gasto, a quantidade de produtos compradas e o preço médio dos produtos.\n",
    "\n",
    "E-mail do seu chefe: para o nosso exercício, coloque um e-mail seu como sendo o e-mail do seu chefe<br>\n",
    "Link de acesso ao sistema da empresa: https://pages.hashtagtreinamentos.com/aula1-intensivao-sistema\n",
    "\n",
    "Para resolver isso, vamos usar o pyautogui, uma biblioteca de automação de comandos do mouse e do teclado"
   ]
  },
  {
   "cell_type": "code",
   "execution_count": 3,
   "id": "cd183f9b",
   "metadata": {},
   "outputs": [
    {
     "name": "stdout",
     "output_type": "stream",
     "text": [
      "Requirement already satisfied: pyautogui in c:\\users\\jeice\\anaconda3\\lib\\site-packages (0.9.53)\n",
      "Requirement already satisfied: mouseinfo in c:\\users\\jeice\\anaconda3\\lib\\site-packages (from pyautogui) (0.1.3)\n",
      "Requirement already satisfied: PyTweening>=1.0.1 in c:\\users\\jeice\\anaconda3\\lib\\site-packages (from pyautogui) (1.0.4)\n",
      "Requirement already satisfied: pymsgbox in c:\\users\\jeice\\anaconda3\\lib\\site-packages (from pyautogui) (1.0.9)\n",
      "Requirement already satisfied: pyscreeze>=0.1.21 in c:\\users\\jeice\\anaconda3\\lib\\site-packages (from pyautogui) (0.1.28)\n",
      "Requirement already satisfied: pygetwindow>=0.0.5 in c:\\users\\jeice\\anaconda3\\lib\\site-packages (from pyautogui) (0.0.9)\n",
      "Requirement already satisfied: pyrect in c:\\users\\jeice\\anaconda3\\lib\\site-packages (from pygetwindow>=0.0.5->pyautogui) (0.2.0)\n",
      "Requirement already satisfied: pyperclip in c:\\users\\jeice\\anaconda3\\lib\\site-packages (from mouseinfo->pyautogui) (1.8.2)\n"
     ]
    }
   ],
   "source": [
    "#instalar a biblioteca pyaoutogui\n",
    "!pip install pyautogui\n",
    "\n",
    "#documentação do pyautogui (https://pyautogui.readthedocs.io/en/latest/quickstart.html)"
   ]
  },
  {
   "cell_type": "code",
   "execution_count": 9,
   "id": "4eeb9ff5",
   "metadata": {},
   "outputs": [],
   "source": [
    "#importat a biblioteca pyautogui\n",
    "import pyautogui"
   ]
  },
  {
   "cell_type": "code",
   "execution_count": 23,
   "id": "0f30f9b1",
   "metadata": {},
   "outputs": [],
   "source": [
    "#importar a biblioteca time\n",
    "import time"
   ]
  },
  {
   "cell_type": "code",
   "execution_count": 10,
   "id": "9b43da6e",
   "metadata": {},
   "outputs": [],
   "source": [
    "#pyautogui.click -> clicar com o mouse\n",
    "#pyautogui.write -> escrever um texto\n",
    "#pyautogui.press -> apertar uma tecla\n",
    "#pyautogui.hotkey -> apertar uma combinação de teclas (atalho)\n",
    "#Essa automação foi desenvolvida no JupiterNotebook\n"
   ]
  },
  {
   "cell_type": "code",
   "execution_count": 21,
   "id": "d75916a4",
   "metadata": {},
   "outputs": [],
   "source": [
    "pyautogui.PAUSE = 1"
   ]
  },
  {
   "cell_type": "markdown",
   "id": "9c6c3623",
   "metadata": {},
   "source": [
    "## Passo 1: Acessar o sistema da empresa\n",
    "\n",
    "\n"
   ]
  },
  {
   "cell_type": "code",
   "execution_count": 43,
   "id": "464eddff",
   "metadata": {},
   "outputs": [],
   "source": [
    "#abrir o navegador\n",
    "pyautogui.hotkey(\"ctrl\",\"t\")\n",
    "\n",
    "#escrever o link do sistema no browser\n",
    "pyautogui.write(\"https://pages.hashtagtreinamentos.com/aula1-intensivao-sistema\")\n",
    "\n",
    "#apertar ENTER para entrar no sistema\n",
    "pyautogui.press('Enter')\n",
    "\n",
    "# pode ser que o navegador tenha que carregar\n",
    "time.sleep(5)\n",
    "\n",
    "# pyautogui.click(x=3323, y=470)\n",
    "\n",
    "# escrever o login\n",
    "# pyautogui.write(\"meu_login\")"
   ]
  },
  {
   "cell_type": "markdown",
   "id": "c1c3e862",
   "metadata": {},
   "source": [
    "## Passo 2 : Fazer login no sistema\n",
    "\n"
   ]
  },
  {
   "cell_type": "code",
   "execution_count": 47,
   "id": "1d76a85d",
   "metadata": {},
   "outputs": [],
   "source": [
    "# clicar no espaço de login\n",
    "time.sleep(2)\n",
    "pyautogui.click(x=3323, y=470)\n",
    "\n",
    "time.sleep(5)\n",
    "# escrever o login\n",
    "pyautogui.write(\"meu_login\")\n",
    "\n",
    "#clicar no espaço senha\n",
    "time.sleep(1)\n",
    "pyautogui.click(x=3359, y=559)\n",
    "\n",
    "#escrever a minha senha\n",
    "pyautogui.write(\"minha_senha123\")\n",
    "\n",
    "#clicar no botão\n",
    "time.sleep(2)\n",
    "pyautogui.click(x=3394, y=648)"
   ]
  },
  {
   "cell_type": "markdown",
   "id": "849f9636",
   "metadata": {},
   "source": [
    "## Passo 3: Baixar a base de dados\n",
    "\n"
   ]
  },
  {
   "cell_type": "code",
   "execution_count": 55,
   "id": "9ac3d367",
   "metadata": {},
   "outputs": [],
   "source": [
    "time.sleep(1)\n",
    "pyautogui.click(x=2939, y=441) # clica no arquivo de compras\n",
    "pyautogui.click(x=3015, y=445) # clica nos 3 pontinhos\n",
    "pyautogui.click(x=3116, y=881) # faz o download\n",
    "time.sleep(3)\n",
    "\n",
    "#clicar na janela para que abre para indicar o destino da pasta \"Salvar Como\"\n",
    "pyautogui.click(x=3371, y=795) # clica em salvar\n"
   ]
  },
  {
   "cell_type": "markdown",
   "id": "873720df",
   "metadata": {},
   "source": [
    "## Passo 4: Calcular  os indicadores\n",
    "\n"
   ]
  },
  {
   "cell_type": "code",
   "execution_count": 54,
   "id": "96fc9799",
   "metadata": {},
   "outputs": [],
   "source": [
    "#importar a biblioteca PANDAS\n",
    "import pandas as pd"
   ]
  },
  {
   "cell_type": "code",
   "execution_count": 57,
   "id": "41bc8e9f",
   "metadata": {},
   "outputs": [
    {
     "data": {
      "text/html": [
       "<div>\n",
       "<style scoped>\n",
       "    .dataframe tbody tr th:only-of-type {\n",
       "        vertical-align: middle;\n",
       "    }\n",
       "\n",
       "    .dataframe tbody tr th {\n",
       "        vertical-align: top;\n",
       "    }\n",
       "\n",
       "    .dataframe thead th {\n",
       "        text-align: right;\n",
       "    }\n",
       "</style>\n",
       "<table border=\"1\" class=\"dataframe\">\n",
       "  <thead>\n",
       "    <tr style=\"text-align: right;\">\n",
       "      <th></th>\n",
       "      <th>CódigoCompra</th>\n",
       "      <th>Data</th>\n",
       "      <th>Fornecedor</th>\n",
       "      <th>Produto</th>\n",
       "      <th>Quantidade</th>\n",
       "      <th>ValorUnitário</th>\n",
       "      <th>ValorFinal</th>\n",
       "    </tr>\n",
       "  </thead>\n",
       "  <tbody>\n",
       "    <tr>\n",
       "      <th>0</th>\n",
       "      <td>65014</td>\n",
       "      <td>01/12/2023</td>\n",
       "      <td>Fabrica Hashtag Brasil</td>\n",
       "      <td>Óleo Motor - Linha A</td>\n",
       "      <td>5</td>\n",
       "      <td>259.00</td>\n",
       "      <td>1295.00</td>\n",
       "    </tr>\n",
       "    <tr>\n",
       "      <th>1</th>\n",
       "      <td>65014</td>\n",
       "      <td>01/12/2023</td>\n",
       "      <td>Fabrica Hashtag Brasil</td>\n",
       "      <td>Kit Embreagem - Linha A</td>\n",
       "      <td>1</td>\n",
       "      <td>380.00</td>\n",
       "      <td>380.00</td>\n",
       "    </tr>\n",
       "    <tr>\n",
       "      <th>2</th>\n",
       "      <td>65016</td>\n",
       "      <td>01/12/2023</td>\n",
       "      <td>Fabrica Doidona Brasil</td>\n",
       "      <td>Bateria - Linha A</td>\n",
       "      <td>2</td>\n",
       "      <td>479.00</td>\n",
       "      <td>958.00</td>\n",
       "    </tr>\n",
       "    <tr>\n",
       "      <th>3</th>\n",
       "      <td>65016</td>\n",
       "      <td>01/12/2023</td>\n",
       "      <td>Fabrica Doidona Brasil</td>\n",
       "      <td>Filtro de Óleo - Linha A</td>\n",
       "      <td>1</td>\n",
       "      <td>18.90</td>\n",
       "      <td>18.90</td>\n",
       "    </tr>\n",
       "    <tr>\n",
       "      <th>4</th>\n",
       "      <td>65017</td>\n",
       "      <td>01/12/2023</td>\n",
       "      <td>Original Fábrica Brasil</td>\n",
       "      <td>Farol Principal - Linha A</td>\n",
       "      <td>3</td>\n",
       "      <td>159.90</td>\n",
       "      <td>479.70</td>\n",
       "    </tr>\n",
       "    <tr>\n",
       "      <th>...</th>\n",
       "      <td>...</td>\n",
       "      <td>...</td>\n",
       "      <td>...</td>\n",
       "      <td>...</td>\n",
       "      <td>...</td>\n",
       "      <td>...</td>\n",
       "      <td>...</td>\n",
       "    </tr>\n",
       "    <tr>\n",
       "      <th>4538</th>\n",
       "      <td>69996</td>\n",
       "      <td>26/12/2023</td>\n",
       "      <td>Revenda Argentina</td>\n",
       "      <td>Logo Hashtag - Linha A</td>\n",
       "      <td>2</td>\n",
       "      <td>10.00</td>\n",
       "      <td>20.00</td>\n",
       "    </tr>\n",
       "    <tr>\n",
       "      <th>4539</th>\n",
       "      <td>69996</td>\n",
       "      <td>26/12/2023</td>\n",
       "      <td>Revenda Argentina</td>\n",
       "      <td>Terminal de Direção - Linha B</td>\n",
       "      <td>4</td>\n",
       "      <td>156.40</td>\n",
       "      <td>625.60</td>\n",
       "    </tr>\n",
       "    <tr>\n",
       "      <th>4540</th>\n",
       "      <td>69996</td>\n",
       "      <td>26/12/2023</td>\n",
       "      <td>Revenda Argentina</td>\n",
       "      <td>Farol Principal - Linha B</td>\n",
       "      <td>1</td>\n",
       "      <td>183.89</td>\n",
       "      <td>183.89</td>\n",
       "    </tr>\n",
       "    <tr>\n",
       "      <th>4541</th>\n",
       "      <td>69997</td>\n",
       "      <td>26/12/2023</td>\n",
       "      <td>Fabrica Doidona Mexico</td>\n",
       "      <td>Pneus - Linha A</td>\n",
       "      <td>1</td>\n",
       "      <td>359.91</td>\n",
       "      <td>359.91</td>\n",
       "    </tr>\n",
       "    <tr>\n",
       "      <th>4542</th>\n",
       "      <td>69997</td>\n",
       "      <td>26/12/2023</td>\n",
       "      <td>Fabrica Doidona Mexico</td>\n",
       "      <td>Kit Embreagem - Linha C</td>\n",
       "      <td>2</td>\n",
       "      <td>502.55</td>\n",
       "      <td>1005.10</td>\n",
       "    </tr>\n",
       "  </tbody>\n",
       "</table>\n",
       "<p>4543 rows × 7 columns</p>\n",
       "</div>"
      ],
      "text/plain": [
       "      CódigoCompra        Data               Fornecedor  \\\n",
       "0            65014  01/12/2023   Fabrica Hashtag Brasil   \n",
       "1            65014  01/12/2023   Fabrica Hashtag Brasil   \n",
       "2            65016  01/12/2023   Fabrica Doidona Brasil   \n",
       "3            65016  01/12/2023   Fabrica Doidona Brasil   \n",
       "4            65017  01/12/2023  Original Fábrica Brasil   \n",
       "...            ...         ...                      ...   \n",
       "4538         69996  26/12/2023        Revenda Argentina   \n",
       "4539         69996  26/12/2023        Revenda Argentina   \n",
       "4540         69996  26/12/2023        Revenda Argentina   \n",
       "4541         69997  26/12/2023   Fabrica Doidona Mexico   \n",
       "4542         69997  26/12/2023   Fabrica Doidona Mexico   \n",
       "\n",
       "                            Produto  Quantidade  ValorUnitário  ValorFinal  \n",
       "0              Óleo Motor - Linha A           5         259.00     1295.00  \n",
       "1           Kit Embreagem - Linha A           1         380.00      380.00  \n",
       "2                 Bateria - Linha A           2         479.00      958.00  \n",
       "3          Filtro de Óleo - Linha A           1          18.90       18.90  \n",
       "4         Farol Principal - Linha A           3         159.90      479.70  \n",
       "...                             ...         ...            ...         ...  \n",
       "4538         Logo Hashtag - Linha A           2          10.00       20.00  \n",
       "4539  Terminal de Direção - Linha B           4         156.40      625.60  \n",
       "4540      Farol Principal - Linha B           1         183.89      183.89  \n",
       "4541                Pneus - Linha A           1         359.91      359.91  \n",
       "4542        Kit Embreagem - Linha C           2         502.55     1005.10  \n",
       "\n",
       "[4543 rows x 7 columns]"
      ]
     },
     "metadata": {},
     "output_type": "display_data"
    }
   ],
   "source": [
    "tabela = pd.read_csv(r\"C:\\Users\\jeice\\Desktop\\Intensivo de Python\\Compras.csv\", sep=\";\")\n",
    "display(tabela)\n",
    "\n"
   ]
  },
  {
   "cell_type": "code",
   "execution_count": 58,
   "id": "2bc42bac",
   "metadata": {},
   "outputs": [
    {
     "name": "stdout",
     "output_type": "stream",
     "text": [
      "7254196.58\n",
      "9715\n",
      "746.7006258363356\n"
     ]
    }
   ],
   "source": [
    "total_gasto = tabela[\"ValorFinal\"].sum()\n",
    "quantidade = tabela[\"Quantidade\"].sum()\n",
    "preco_medio = total_gasto / quantidade\n",
    "print(total_gasto)\n",
    "print(quantidade)\n",
    "print(preco_medio)"
   ]
  },
  {
   "cell_type": "markdown",
   "id": "1937d1e3",
   "metadata": {},
   "source": [
    "## Passo 5: Enviar o email para a diretoria/para o chefe (gmail)"
   ]
  },
  {
   "cell_type": "code",
   "execution_count": 62,
   "id": "1b008528",
   "metadata": {},
   "outputs": [
    {
     "name": "stdout",
     "output_type": "stream",
     "text": [
      "Point(x=2536, y=254)\n"
     ]
    }
   ],
   "source": [
    "# ver a posição do mouse na tela\n",
    "time.sleep(10)\n",
    "print(pyautogui.position())\n"
   ]
  },
  {
   "cell_type": "code",
   "execution_count": 59,
   "id": "0c89badd",
   "metadata": {},
   "outputs": [],
   "source": [
    "import pyperclip"
   ]
  },
  {
   "cell_type": "code",
   "execution_count": 75,
   "id": "602591ef",
   "metadata": {},
   "outputs": [],
   "source": [
    "# entrar no email: https://mail.google.com/mail/u/0/#inbox\n",
    "pyautogui.hotkey(\"ctrl\", \"t\")\n",
    "pyautogui.write(\"https://mail.google.com/mail/u/0/#inbox\")\n",
    "pyautogui.press(\"enter\")"
   ]
  },
  {
   "cell_type": "code",
   "execution_count": 80,
   "id": "dce18fbe",
   "metadata": {},
   "outputs": [],
   "source": [
    "time.sleep(5)\n",
    "\n",
    "# clicar no botão escrever\n",
    "pyautogui.click(x=2536, y=254)"
   ]
  },
  {
   "cell_type": "code",
   "execution_count": 81,
   "id": "efe37cf9",
   "metadata": {},
   "outputs": [],
   "source": [
    "# preencher as informações do email\n",
    "# destinatário\n",
    "time.sleep(1)\n",
    "pyautogui.write(\"contato@jeice.com.br\")\n",
    "pyautogui.press(\"tab\") # escolher o destinatario\n",
    "\n",
    "# passar para o campo assunto\n",
    "pyautogui.press(\"tab\") # passar para o campo assunto\n",
    "pyperclip.copy(\"Relatório de Vendas\")\n",
    "pyautogui.hotkey(\"ctrl\", \"v\")\n",
    "\n",
    "# passando para o corpo do email\n",
    "pyautogui.press(\"tab\") # passando para o corpo do email\n",
    "\n",
    "\n",
    "texto = f\"\"\"\n",
    "Prezados,\n",
    "Segue o relatório de compras\n",
    "\n",
    "Total Gasto: R${total_gasto:,.2f}\n",
    "Quantidade de Produtos: {quantidade:,}\n",
    "Preço Médio: R${preco_medio:,.2f}\n",
    "\n",
    "Qualquer dúvida, é só falar.\n",
    "Att., Jeice Santos\n",
    "\"\"\"\n",
    "\n",
    "pyperclip.copy(texto)\n",
    "pyautogui.hotkey(\"ctrl\", \"v\")\n",
    "\n",
    "# enviar\n",
    "pyautogui.hotkey(\"ctrl\", \"enter\")"
   ]
  },
  {
   "cell_type": "code",
   "execution_count": null,
   "id": "c639f45b",
   "metadata": {},
   "outputs": [],
   "source": []
  }
 ],
 "metadata": {
  "kernelspec": {
   "display_name": "Python 3 (ipykernel)",
   "language": "python",
   "name": "python3"
  },
  "language_info": {
   "codemirror_mode": {
    "name": "ipython",
    "version": 3
   },
   "file_extension": ".py",
   "mimetype": "text/x-python",
   "name": "python",
   "nbconvert_exporter": "python",
   "pygments_lexer": "ipython3",
   "version": "3.9.7"
  }
 },
 "nbformat": 4,
 "nbformat_minor": 5
}
